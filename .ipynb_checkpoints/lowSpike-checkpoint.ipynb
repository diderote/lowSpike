{
 "cells": [
  {
   "cell_type": "markdown",
   "metadata": {},
   "source": [
    "# ChIPseq normalization based on binned spike-in local regression "
   ]
  },
  {
   "cell_type": "markdown",
   "metadata": {},
   "source": [
    "## Core Functions"
   ]
  },
  {
   "cell_type": "code",
   "execution_count": 1,
   "metadata": {},
   "outputs": [],
   "source": [
    "import itertools\n",
    "\n",
    "import pandas as pd\n",
    "import numpy as np\n",
    "import matplotlib.pyplot as plt\n",
    "import seaborn as sns\n",
    "import tqdm\n",
    "\n",
    "from scipy.interpolate import interp1d\n",
    "from statsmodels.nonparametric import smoothers_lowess"
   ]
  },
  {
   "cell_type": "code",
   "execution_count": 2,
   "metadata": {},
   "outputs": [],
   "source": [
    "def image_display(file):\n",
    "    from IPython.display import Image, display\n",
    "    display(Image(file))\n",
    "    \n",
    "    \n",
    "def max_diff(df, combinations):\n",
    "    '''\n",
    "    Find the sample combination with the greatest average signal difference.\n",
    "    \n",
    "    Parameters\n",
    "    ----------\n",
    "    df : array-like of shape = [n_bins, n_samples]\n",
    "    combinations: list of non-repeating sample lists [(s1,s2), (s1,s3), (s2,s3)]\n",
    "    \n",
    "    Returns\n",
    "    -------\n",
    "    list of samples with greatest mean signal differences\n",
    "    '''\n",
    "    \n",
    "    mx = 0\n",
    "    comb = ['None', 'None']\n",
    "    \n",
    "    for s1,s2 in combinations:\n",
    "        comb_max = abs((df[s1] - df[s2]).mean())\n",
    "        if comb_max > mx:\n",
    "            comb = [s1, s2]\n",
    "            mx = comb_max\n",
    "    return comb\n",
    "\n",
    "\n",
    "def choice_idx_pmf(df, size=50000):\n",
    "    '''\n",
    "    Makes a pmf based on signal intensity and chooses random indicies based on pmf\n",
    "    \n",
    "    Parameters\n",
    "    ----------\n",
    "    df: dataframe with two columns\n",
    "    size:  how many indicies to choose\n",
    "    \n",
    "    Returns\n",
    "    -------\n",
    "    Values of indicies from the df based on the pmf\n",
    "    '''\n",
    "    \n",
    "    difference = df.iloc[:,0] - df.iloc[:,1]\n",
    "    d2 = difference**2\n",
    "    total = d2.sum()\n",
    "    pmf2 = d2 / total\n",
    "    \n",
    "    return np.random.choice(pmf2.index, size=size, replace=False, p=pmf2.values)\n",
    "\n",
    "\n",
    "def get_subset_indicies(subset_df, combinations, size=50000):\n",
    "    '''\n",
    "    From spike dataframe, choose inidicies for modeling based on \n",
    "    the samples with the greatest mean signal difference.\n",
    "    \n",
    "    Parameters\n",
    "    ----------\n",
    "    df: dataframe of spike or subset signal values\n",
    "    combinations: list of non-repeating sample lists [(s1,s2), (s1,s3), (s2,s3)]\n",
    "    size: number of indicies to return\n",
    "    \n",
    "    Returns\n",
    "    -------\n",
    "    list-like of chosen indicies \n",
    "    \n",
    "    '''\n",
    "    \n",
    "    comb = max_diff(subset_df, combinations)\n",
    "    return choice_idx_pmf(subset_df[comb], size=size)\n",
    "\n",
    "\n",
    "def delta(difference, values, subset_indicies, num_samples):\n",
    "    '''\n",
    "    Makes a lowess model of the difference between samples based on the signal value \n",
    "    of the spike indicies (genomic bin) in that sample.  Calcualte the differences over \n",
    "    the entire dataframe.  (ie. Based on signal value at each index, calculate the \n",
    "    adjustment of the signal at that index in the direction that the spike in is \n",
    "    different to the other sample.)\n",
    "    \n",
    "    Parameters\n",
    "    ----------\n",
    "    difference: vector of calucated differences between two samples at spike-in indicies\n",
    "    values: signal values of one sample at spike-in indicies\n",
    "    num_samples: number of total samples in the experiment\n",
    "    \n",
    "    Returns\n",
    "    -------\n",
    "    list of the correction values for that sample compared to one other sample\n",
    "    '''\n",
    "    \n",
    "    low = smoothers_lowess.lowess(difference, values.loc[subset_indicies])\n",
    "    interp = interp1d(low[:,0], low[:,1], bounds_error=False, \n",
    "                      fill_value=(difference[values.loc[subset_indicies].idxmin()], \n",
    "                                  \"extrapolate\")) # linear at high signal \n",
    "    return interp(values) / (num_samples - 1)\n",
    "\n",
    "\n",
    "\n",
    "def normalize_lowess(df, spike_indicies, subset_size=50000, iterations=5, logit=True):\n",
    "    '''\n",
    "    Executes a minimization of the differences between spike-in samples based\n",
    "    on a non-parametric local regression model and applies the corrections to \n",
    "    all datapoints.\n",
    "    \n",
    "    Parameters\n",
    "    ----------\n",
    "    df: dataframe with sample names in columns. (binned genome signal means of IP and spike-in)\n",
    "    spike_indicies: list of spike-in indicies\n",
    "    subset_size: number of indicies to build model\n",
    "    iterations: number of iterations\n",
    "    logit: apply a log1p to the dataframe\n",
    "    \n",
    "    Returns\n",
    "    -------\n",
    "    Normalized Dataframe\n",
    "    Dictionary of the max mean squared error at each iteration\n",
    "    '''\n",
    "    \n",
    "    errors={}\n",
    "    \n",
    "    d = df.apply(np.log1p).copy() if logit else df.copy()\n",
    "    \n",
    "    samples = d.columns.tolist()\n",
    "    combinations = list(itertools.combinations(samples, 2))\n",
    "    \n",
    "    for i in tqdm.tqdm(range(interations)):\n",
    "        #Initialize a change matrix\n",
    "        ddf = pd.DataFrame(0, columns=df.columns, index=d.index)\n",
    "        #choose spike in indicies for modeling\n",
    "        subset_index = get_subset_indicies(d.loc[spike_indicies], combinations, size=subset_size)\n",
    "        \n",
    "        for s1, s2 in combinations:\n",
    "            #Calculate differences between two samples\n",
    "            difference = df.loc[subset_index,s1] - df.loc[subset_index,s2]\n",
    "            #Model the differences based on binned values and adjust the change matrix per comparison\n",
    "            ddf[s1] = ddf[s1] + delta(difference, df[s1], subset_index, len(samples))\n",
    "            ddf[s2] = ddf[s2] - delta(difference, df[s2], subset_index, len(samples))\n",
    "   \n",
    "        #Make the iteration adjustments to the entire dataset\n",
    "        d = d - ddf\n",
    "        \n",
    "        #errors[f'{i + 1}'] = ddf.loc[sub_index, samples].mean()\n",
    "        errors[f'{i + 1} MSE'] = ((ddf.loc[sub_index, samples])**2).mean()\n",
    "    \n",
    "    MSE = {k: df.max() for k,df in errors.items() if 'MSE' in k}\n",
    "    \n",
    "    normed_df = d.apply(np.expm1) if logit else d\n",
    "    \n",
    "    return normed_df, MSE"
   ]
  },
  {
   "cell_type": "markdown",
   "metadata": {},
   "source": [
    "## 1. Creating Binned Signal Matrix"
   ]
  },
  {
   "cell_type": "code",
   "execution_count": 1,
   "metadata": {},
   "outputs": [],
   "source": [
    "import math\n",
    "from multiprocessing import Pool\n",
    "\n",
    "import pandas as pd\n",
    "import pyBigWig as bw\n",
    "import tqdm\n",
    "from p_tqdm import p_map"
   ]
  },
  {
   "cell_type": "code",
   "execution_count": 5,
   "metadata": {},
   "outputs": [],
   "source": [
    "d1 = 'H3K27me3_DMSO_Rep1.cpm.100bp.bw'\n",
    "d2 = 'H3K27me3_DMSO_Rep2.cpm.100bp.bw'\n",
    "\n",
    "D1 = bw.open(d1)\n",
    "D2 = bw.open(d2)"
   ]
  },
  {
   "cell_type": "code",
   "execution_count": 6,
   "metadata": {},
   "outputs": [
    {
     "data": {
      "text/plain": [
       "{'chr1': 248956422,\n",
       " 'chr2': 242193529,\n",
       " 'chr3': 198295559,\n",
       " 'chr4': 190214555,\n",
       " 'chr5': 181538259,\n",
       " 'chr6': 170805979,\n",
       " 'chr7': 159345973,\n",
       " 'chr8': 145138636,\n",
       " 'chr9': 138394717,\n",
       " 'chr10': 133797422,\n",
       " 'chr11': 135086622,\n",
       " 'chr12': 133275309,\n",
       " 'chr13': 114364328,\n",
       " 'chr14': 107043718,\n",
       " 'chr15': 101991189,\n",
       " 'chr16': 90338345,\n",
       " 'chr17': 83257441,\n",
       " 'chr18': 80373285,\n",
       " 'chr19': 58617616,\n",
       " 'chr20': 64444167,\n",
       " 'chr21': 46709983,\n",
       " 'chr22': 50818468,\n",
       " 'chrX': 156040895,\n",
       " 'chrY': 57227415,\n",
       " '2L_FLY': 23513712,\n",
       " '2R_FLY': 25286936,\n",
       " '3L_FLY': 28110227,\n",
       " '3R_FLY': 32079331,\n",
       " '4_FLY': 1348131,\n",
       " 'X_FLY': 23542271,\n",
       " 'Y_FLY': 3667352}"
      ]
     },
     "execution_count": 6,
     "metadata": {},
     "output_type": "execute_result"
    }
   ],
   "source": [
    "D1.chroms()"
   ]
  },
  {
   "cell_type": "code",
   "execution_count": 7,
   "metadata": {},
   "outputs": [],
   "source": [
    "bin_size = 100"
   ]
  },
  {
   "cell_type": "code",
   "execution_count": 8,
   "metadata": {},
   "outputs": [
    {
     "name": "stderr",
     "output_type": "stream",
     "text": [
      "100%|██████████| 31/31 [00:18<00:00,  1.32it/s]\n"
     ]
    }
   ],
   "source": [
    "start = []\n",
    "end = []\n",
    "ch = []\n",
    "\n",
    "for chrom, size in tqdm.tqdm(D1.chroms().items()):\n",
    "    start = [*start, *(x for x in range(0,size,bin_size))]\n",
    "    ch = [*ch, *([chrom]*(math.ceil(size/bin_size)))]\n",
    "    end = [*end, *(x for x in range(bin_size,size,bin_size)), size]"
   ]
  },
  {
   "cell_type": "code",
   "execution_count": 9,
   "metadata": {},
   "outputs": [],
   "source": [
    "df = pd.DataFrame({'chr':ch, 'start':start, 'end':end}, index=range(len(start)))"
   ]
  },
  {
   "cell_type": "code",
   "execution_count": 10,
   "metadata": {},
   "outputs": [
    {
     "data": {
      "text/html": [
       "<div>\n",
       "<style scoped>\n",
       "    .dataframe tbody tr th:only-of-type {\n",
       "        vertical-align: middle;\n",
       "    }\n",
       "\n",
       "    .dataframe tbody tr th {\n",
       "        vertical-align: top;\n",
       "    }\n",
       "\n",
       "    .dataframe thead th {\n",
       "        text-align: right;\n",
       "    }\n",
       "</style>\n",
       "<table border=\"1\" class=\"dataframe\">\n",
       "  <thead>\n",
       "    <tr style=\"text-align: right;\">\n",
       "      <th></th>\n",
       "      <th>chr</th>\n",
       "      <th>start</th>\n",
       "      <th>end</th>\n",
       "    </tr>\n",
       "  </thead>\n",
       "  <tbody>\n",
       "    <tr>\n",
       "      <th>2489564</th>\n",
       "      <td>chr1</td>\n",
       "      <td>248956400</td>\n",
       "      <td>248956422</td>\n",
       "    </tr>\n",
       "    <tr>\n",
       "      <th>4911500</th>\n",
       "      <td>chr2</td>\n",
       "      <td>242193500</td>\n",
       "      <td>242193529</td>\n",
       "    </tr>\n",
       "    <tr>\n",
       "      <th>6894456</th>\n",
       "      <td>chr3</td>\n",
       "      <td>198295500</td>\n",
       "      <td>198295559</td>\n",
       "    </tr>\n",
       "    <tr>\n",
       "      <th>8796602</th>\n",
       "      <td>chr4</td>\n",
       "      <td>190214500</td>\n",
       "      <td>190214555</td>\n",
       "    </tr>\n",
       "    <tr>\n",
       "      <th>10611985</th>\n",
       "      <td>chr5</td>\n",
       "      <td>181538200</td>\n",
       "      <td>181538259</td>\n",
       "    </tr>\n",
       "    <tr>\n",
       "      <th>12320045</th>\n",
       "      <td>chr6</td>\n",
       "      <td>170805900</td>\n",
       "      <td>170805979</td>\n",
       "    </tr>\n",
       "    <tr>\n",
       "      <th>13913505</th>\n",
       "      <td>chr7</td>\n",
       "      <td>159345900</td>\n",
       "      <td>159345973</td>\n",
       "    </tr>\n",
       "    <tr>\n",
       "      <th>15364892</th>\n",
       "      <td>chr8</td>\n",
       "      <td>145138600</td>\n",
       "      <td>145138636</td>\n",
       "    </tr>\n",
       "    <tr>\n",
       "      <th>16748840</th>\n",
       "      <td>chr9</td>\n",
       "      <td>138394700</td>\n",
       "      <td>138394717</td>\n",
       "    </tr>\n",
       "    <tr>\n",
       "      <th>18086815</th>\n",
       "      <td>chr10</td>\n",
       "      <td>133797400</td>\n",
       "      <td>133797422</td>\n",
       "    </tr>\n",
       "    <tr>\n",
       "      <th>19437682</th>\n",
       "      <td>chr11</td>\n",
       "      <td>135086600</td>\n",
       "      <td>135086622</td>\n",
       "    </tr>\n",
       "    <tr>\n",
       "      <th>20770436</th>\n",
       "      <td>chr12</td>\n",
       "      <td>133275300</td>\n",
       "      <td>133275309</td>\n",
       "    </tr>\n",
       "    <tr>\n",
       "      <th>21914080</th>\n",
       "      <td>chr13</td>\n",
       "      <td>114364300</td>\n",
       "      <td>114364328</td>\n",
       "    </tr>\n",
       "    <tr>\n",
       "      <th>22984518</th>\n",
       "      <td>chr14</td>\n",
       "      <td>107043700</td>\n",
       "      <td>107043718</td>\n",
       "    </tr>\n",
       "    <tr>\n",
       "      <th>24004430</th>\n",
       "      <td>chr15</td>\n",
       "      <td>101991100</td>\n",
       "      <td>101991189</td>\n",
       "    </tr>\n",
       "    <tr>\n",
       "      <th>24907814</th>\n",
       "      <td>chr16</td>\n",
       "      <td>90338300</td>\n",
       "      <td>90338345</td>\n",
       "    </tr>\n",
       "    <tr>\n",
       "      <th>25740389</th>\n",
       "      <td>chr17</td>\n",
       "      <td>83257400</td>\n",
       "      <td>83257441</td>\n",
       "    </tr>\n",
       "    <tr>\n",
       "      <th>26544122</th>\n",
       "      <td>chr18</td>\n",
       "      <td>80373200</td>\n",
       "      <td>80373285</td>\n",
       "    </tr>\n",
       "    <tr>\n",
       "      <th>27130299</th>\n",
       "      <td>chr19</td>\n",
       "      <td>58617600</td>\n",
       "      <td>58617616</td>\n",
       "    </tr>\n",
       "    <tr>\n",
       "      <th>27774741</th>\n",
       "      <td>chr20</td>\n",
       "      <td>64444100</td>\n",
       "      <td>64444167</td>\n",
       "    </tr>\n",
       "    <tr>\n",
       "      <th>28241841</th>\n",
       "      <td>chr21</td>\n",
       "      <td>46709900</td>\n",
       "      <td>46709983</td>\n",
       "    </tr>\n",
       "    <tr>\n",
       "      <th>28750026</th>\n",
       "      <td>chr22</td>\n",
       "      <td>50818400</td>\n",
       "      <td>50818468</td>\n",
       "    </tr>\n",
       "    <tr>\n",
       "      <th>30310435</th>\n",
       "      <td>chrX</td>\n",
       "      <td>156040800</td>\n",
       "      <td>156040895</td>\n",
       "    </tr>\n",
       "    <tr>\n",
       "      <th>30882710</th>\n",
       "      <td>chrY</td>\n",
       "      <td>57227400</td>\n",
       "      <td>57227415</td>\n",
       "    </tr>\n",
       "    <tr>\n",
       "      <th>31117848</th>\n",
       "      <td>2L_FLY</td>\n",
       "      <td>23513700</td>\n",
       "      <td>23513712</td>\n",
       "    </tr>\n",
       "    <tr>\n",
       "      <th>31370718</th>\n",
       "      <td>2R_FLY</td>\n",
       "      <td>25286900</td>\n",
       "      <td>25286936</td>\n",
       "    </tr>\n",
       "    <tr>\n",
       "      <th>31651821</th>\n",
       "      <td>3L_FLY</td>\n",
       "      <td>28110200</td>\n",
       "      <td>28110227</td>\n",
       "    </tr>\n",
       "    <tr>\n",
       "      <th>31972615</th>\n",
       "      <td>3R_FLY</td>\n",
       "      <td>32079300</td>\n",
       "      <td>32079331</td>\n",
       "    </tr>\n",
       "    <tr>\n",
       "      <th>31986097</th>\n",
       "      <td>4_FLY</td>\n",
       "      <td>1348100</td>\n",
       "      <td>1348131</td>\n",
       "    </tr>\n",
       "    <tr>\n",
       "      <th>32221520</th>\n",
       "      <td>X_FLY</td>\n",
       "      <td>23542200</td>\n",
       "      <td>23542271</td>\n",
       "    </tr>\n",
       "    <tr>\n",
       "      <th>32258194</th>\n",
       "      <td>Y_FLY</td>\n",
       "      <td>3667300</td>\n",
       "      <td>3667352</td>\n",
       "    </tr>\n",
       "  </tbody>\n",
       "</table>\n",
       "</div>"
      ],
      "text/plain": [
       "             chr      start        end\n",
       "2489564     chr1  248956400  248956422\n",
       "4911500     chr2  242193500  242193529\n",
       "6894456     chr3  198295500  198295559\n",
       "8796602     chr4  190214500  190214555\n",
       "10611985    chr5  181538200  181538259\n",
       "12320045    chr6  170805900  170805979\n",
       "13913505    chr7  159345900  159345973\n",
       "15364892    chr8  145138600  145138636\n",
       "16748840    chr9  138394700  138394717\n",
       "18086815   chr10  133797400  133797422\n",
       "19437682   chr11  135086600  135086622\n",
       "20770436   chr12  133275300  133275309\n",
       "21914080   chr13  114364300  114364328\n",
       "22984518   chr14  107043700  107043718\n",
       "24004430   chr15  101991100  101991189\n",
       "24907814   chr16   90338300   90338345\n",
       "25740389   chr17   83257400   83257441\n",
       "26544122   chr18   80373200   80373285\n",
       "27130299   chr19   58617600   58617616\n",
       "27774741   chr20   64444100   64444167\n",
       "28241841   chr21   46709900   46709983\n",
       "28750026   chr22   50818400   50818468\n",
       "30310435    chrX  156040800  156040895\n",
       "30882710    chrY   57227400   57227415\n",
       "31117848  2L_FLY   23513700   23513712\n",
       "31370718  2R_FLY   25286900   25286936\n",
       "31651821  3L_FLY   28110200   28110227\n",
       "31972615  3R_FLY   32079300   32079331\n",
       "31986097   4_FLY    1348100    1348131\n",
       "32221520   X_FLY   23542200   23542271\n",
       "32258194   Y_FLY    3667300    3667352"
      ]
     },
     "execution_count": 10,
     "metadata": {},
     "output_type": "execute_result"
    }
   ],
   "source": [
    "df[df.end % 100 > 0]"
   ]
  },
  {
   "cell_type": "code",
   "execution_count": 28,
   "metadata": {},
   "outputs": [
    {
     "name": "stdout",
     "output_type": "stream",
     "text": [
      "CPU times: user 1h 36min 19s, sys: 2min 24s, total: 1h 38min 44s\n",
      "Wall time: 2h 28min 23s\n"
     ]
    }
   ],
   "source": [
    "%%time\n",
    "\n",
    "df['DMSO_1'] = df[['chr','start','end']].apply(lambda x: D1.stats(x[0], x[1], x[2])[0], axis=1)"
   ]
  },
  {
   "cell_type": "code",
   "execution_count": 49,
   "metadata": {},
   "outputs": [
    {
     "name": "stdout",
     "output_type": "stream",
     "text": [
      "CPU times: user 2h 38min 22s, sys: 1min 44s, total: 2h 40min 7s\n",
      "Wall time: 2h 40min 5s\n"
     ]
    }
   ],
   "source": [
    "%%time\n",
    "\n",
    "df['DMSO_2'] = df2[['chr','start','end']].apply(lambda x: D2.stats(x[0], x[1], x[2])[0], axis=1)"
   ]
  },
  {
   "cell_type": "code",
   "execution_count": 50,
   "metadata": {},
   "outputs": [],
   "source": [
    "E1 = bw.open('H3K27me3_EZH2i_Rep1.cpm.100bp.bw')\n",
    "E2 = bw.open('H3K27me3_EZH2i_Rep2.cpm.100bp.bw')\n",
    "P1 = bw.open('H3K27me3_PRMT5i_Rep1.cpm.100bp.bw')\n",
    "P2 = bw.open('H3K27me3_PRMT5i_Rep2.cpm.100bp.bw')"
   ]
  },
  {
   "cell_type": "code",
   "execution_count": 51,
   "metadata": {},
   "outputs": [
    {
     "name": "stdout",
     "output_type": "stream",
     "text": [
      "CPU times: user 10h 31min 55s, sys: 6min 55s, total: 10h 38min 50s\n",
      "Wall time: 10h 38min 31s\n",
      "Compiler : 509 ms\n"
     ]
    }
   ],
   "source": [
    "%%time\n",
    "\n",
    "df['EZH2i_1'] = df2[['chr','start','end']].progress_apply(lambda x: E1.stats(x[0], x[1], x[2])[0], axis=1)\n",
    "df['EZH2i_2'] = df2[['chr','start','end']].progress_apply(lambda x: E2.stats(x[0], x[1], x[2])[0], axis=1)\n",
    "df['PRMT5i_1'] = df2[['chr','start','end']].progress_apply(lambda x: P1.stats(x[0], x[1], x[2])[0], axis=1)\n",
    "df['PRMT5i_2'] = df2[['chr','start','end']].progress_apply(lambda x: P2.stats(x[0], x[1], x[2])[0], axis=1)"
   ]
  },
  {
   "cell_type": "code",
   "execution_count": 52,
   "metadata": {},
   "outputs": [],
   "source": [
    "df.to_csv('~/Desktop/norm_chip.txt', sep=\"\\t\")"
   ]
  },
  {
   "cell_type": "markdown",
   "metadata": {},
   "source": [
    "## 2. Generate Normalized Average CPM driven by spike-in regression"
   ]
  },
  {
   "cell_type": "code",
   "execution_count": 2,
   "metadata": {},
   "outputs": [],
   "source": [
    "np.random.seed(42)\n",
    "\n",
    "sns.set(style='white')"
   ]
  },
  {
   "cell_type": "code",
   "execution_count": 4,
   "metadata": {},
   "outputs": [
    {
     "name": "stderr",
     "output_type": "stream",
     "text": [
      "/Users/dlk41/miniconda3/envs/ML/lib/python3.6/site-packages/numpy/lib/arraysetops.py:568: FutureWarning: elementwise comparison failed; returning scalar instead, but in the future will perform elementwise comparison\n",
      "  mask |= (ar1 == a)\n"
     ]
    }
   ],
   "source": [
    "norm_chip = pd.read_table('norm_chip.txt', index_col=0)"
   ]
  },
  {
   "cell_type": "code",
   "execution_count": 8,
   "metadata": {},
   "outputs": [],
   "source": [
    "fly_chr = {'2L_FLY', '2R_FLY', '3L_FLY', '3R_FLY', '4_FLY', 'X_FLY', 'Y_FLY'}\n",
    "fly_df_index = norm_chip[norm_chip.chr.isin(fly_chr)].index\n",
    "\n",
    "samples = norm_chip.columns[3:].tolist()\n",
    "combinations = list(itertools.combinations(samples, 2))"
   ]
  },
  {
   "cell_type": "code",
   "execution_count": 9,
   "metadata": {},
   "outputs": [],
   "source": [
    "iterations =  5"
   ]
  },
  {
   "cell_type": "code",
   "execution_count": 10,
   "metadata": {},
   "outputs": [
    {
     "name": "stderr",
     "output_type": "stream",
     "text": [
      "100%|██████████| 10/10 [15:10<00:00, 90.81s/it]\n"
     ]
    },
    {
     "name": "stdout",
     "output_type": "stream",
     "text": [
      "{'1 MSE': 19.540392117717612, '2 MSE': 0.1222503749597398, '3 MSE': 0.013414398705137122, '4 MSE': 0.011855940733026643, '5 MSE': 0.007178463929676852, '6 MSE': 0.009883860522166343, '7 MSE': 0.0060105275588763895, '8 MSE': 0.010451180555698129, '9 MSE': 0.005785671202129088, '10 MSE': 0.008359691525543191}\n",
      "CPU times: user 19min 38s, sys: 1min 9s, total: 20min 47s\n",
      "Wall time: 15min 13s\n"
     ]
    }
   ],
   "source": [
    "%%time\n",
    "\n",
    "df = norm_chip[samples].copy()\n",
    "errors = {}\n",
    "\n",
    "for i in tqdm.tqdm(range(iterations)):\n",
    "    \n",
    "    ddf = pd.DataFrame(0, columns=df.columns, index=df.index)\n",
    "    \n",
    "    sub_index = get_subset_indicies(df.loc[fly_df_index], combinations, size=100000)\n",
    "\n",
    "    for s1, s2 in combinations:\n",
    "        difference = df.loc[sub_index,s1] - df.loc[sub_index,s2]\n",
    "        \n",
    "        ddf[s1] = ddf[s1] + delta(difference, df[s1], sub_index, len(samples))\n",
    "        ddf[s2] = ddf[s2] - delta(difference, df[s2], sub_index, len(samples))\n",
    "\n",
    "    df = df - ddf\n",
    "    \n",
    "    errors[f'{i + 1}'] = ddf.loc[sub_index, samples].mean()\n",
    "    errors[f'{i + 1} MSE'] = ((ddf.loc[sub_index, samples])**2).mean()\n",
    "\n",
    "df[df < 0] = 0\n",
    "\n",
    "print({k: df.max() for k,df in errors.items() if 'MSE' in k})"
   ]
  },
  {
   "cell_type": "markdown",
   "metadata": {},
   "source": [
    "## Fly Tests"
   ]
  },
  {
   "cell_type": "code",
   "execution_count": 11,
   "metadata": {},
   "outputs": [],
   "source": [
    "random_idx = norm_chip[norm_chip.index.isin(fly_df_index)].sample(100000).index"
   ]
  },
  {
   "cell_type": "code",
   "execution_count": 12,
   "metadata": {},
   "outputs": [
    {
     "data": {
      "text/plain": [
       "(0, 5)"
      ]
     },
     "execution_count": 12,
     "metadata": {},
     "output_type": "execute_result"
    },
    {
     "data": {
      "image/png": "[encoded data removed]",
      "text/plain": [
       "<Figure size 432x288 with 1 Axes>"
      ]
     },
     "metadata": {},
     "output_type": "display_data"
    }
   ],
   "source": [
    "plt.scatter(np.log1p(norm_chip.loc[random_idx, 'DMSO_1']), \n",
    "            np.log1p(norm_chip.loc[random_idx, 'DMSO_2']),\n",
    "            s=1, alpha=.5, c='k')\n",
    "\n",
    "plt.xlim(0,5)\n",
    "plt.ylim(0,5)"
   ]
  },
  {
   "cell_type": "code",
   "execution_count": 13,
   "metadata": {},
   "outputs": [
    {
     "data": {
      "text/plain": [
       "<matplotlib.collections.PathCollection at 0x7f8a831f46a0>"
      ]
     },
     "execution_count": 13,
     "metadata": {},
     "output_type": "execute_result"
    },
    {
     "data": {
      "image/png": "[encoded data removed]",
      "text/plain": [
       "<Figure size 432x288 with 1 Axes>"
      ]
     },
     "metadata": {},
     "output_type": "display_data"
    }
   ],
   "source": [
    "plt.scatter(np.log1p(df.loc[random_idx, 'DMSO_1']), \n",
    "            np.log1p(df.loc[random_idx, 'DMSO_2']),\n",
    "            s=1, alpha=.5, c='k')"
   ]
  },
  {
   "cell_type": "code",
   "execution_count": 14,
   "metadata": {},
   "outputs": [
    {
     "data": {
      "text/plain": [
       "(0, 6)"
      ]
     },
     "execution_count": 14,
     "metadata": {},
     "output_type": "execute_result"
    },
    {
     "data": {
      "image/png": "[encoded data removed]",
      "text/plain": [
       "<Figure size 432x288 with 1 Axes>"
      ]
     },
     "metadata": {},
     "output_type": "display_data"
    }
   ],
   "source": [
    "plt.scatter(np.log1p(norm_chip.loc[random_idx, 'EZH2i_1']), \n",
    "            np.log1p(norm_chip.loc[random_idx, 'EZH2i_2']),\n",
    "            s=1, alpha=.5, c='k')\n",
    "\n",
    "plt.xlim(0,6)\n",
    "plt.ylim(0,6)"
   ]
  },
  {
   "cell_type": "code",
   "execution_count": 15,
   "metadata": {},
   "outputs": [
    {
     "data": {
      "text/plain": [
       "<matplotlib.collections.PathCollection at 0x7f8a90114710>"
      ]
     },
     "execution_count": 15,
     "metadata": {},
     "output_type": "execute_result"
    },
    {
     "data": {
      "image/png": "[encoded data removed]",
      "text/plain": [
       "<Figure size 432x288 with 1 Axes>"
      ]
     },
     "metadata": {},
     "output_type": "display_data"
    }
   ],
   "source": [
    "plt.scatter(np.log1p(df.loc[random_idx, 'EZH2i_1']), \n",
    "            np.log1p(df.loc[random_idx, 'EZH2i_2']),\n",
    "            s=1, alpha=.5, c='k')"
   ]
  },
  {
   "cell_type": "code",
   "execution_count": 16,
   "metadata": {},
   "outputs": [
    {
     "data": {
      "text/plain": [
       "(0, 3.5)"
      ]
     },
     "execution_count": 16,
     "metadata": {},
     "output_type": "execute_result"
    },
    {
     "data": {
      "image/png": "[encoded data removed]",
      "text/plain": [
       "<Figure size 432x288 with 1 Axes>"
      ]
     },
     "metadata": {},
     "output_type": "display_data"
    }
   ],
   "source": [
    "plt.scatter(np.log1p(norm_chip.loc[random_idx, 'PRMT5i_1']), \n",
    "            np.log1p(norm_chip.loc[random_idx, 'PRMT5i_2']),\n",
    "            s=1, alpha=.5, c='k')\n",
    "\n",
    "plt.xlim(0,3.5)\n",
    "plt.ylim(0,3.5)"
   ]
  },
  {
   "cell_type": "code",
   "execution_count": 17,
   "metadata": {},
   "outputs": [
    {
     "data": {
      "text/plain": [
       "<matplotlib.collections.PathCollection at 0x7f8b08048be0>"
      ]
     },
     "execution_count": 17,
     "metadata": {},
     "output_type": "execute_result"
    },
    {
     "data": {
      "image/png": "[encoded data removed]",
      "text/plain": [
       "<Figure size 432x288 with 1 Axes>"
      ]
     },
     "metadata": {},
     "output_type": "display_data"
    }
   ],
   "source": [
    "plt.scatter(np.log1p(df.loc[random_idx, 'PRMT5i_1']), \n",
    "            np.log1p(df.loc[random_idx, 'PRMT5i_2']),\n",
    "            s=1, alpha=.5, c='k')"
   ]
  },
  {
   "cell_type": "code",
   "execution_count": 18,
   "metadata": {},
   "outputs": [
    {
     "data": {
      "text/plain": [
       "(0, 6)"
      ]
     },
     "execution_count": 18,
     "metadata": {},
     "output_type": "execute_result"
    },
    {
     "data": {
      "image/png": "[encoded data removed]",
      "text/plain": [
       "<Figure size 432x288 with 1 Axes>"
      ]
     },
     "metadata": {},
     "output_type": "display_data"
    }
   ],
   "source": [
    "plt.scatter(np.log1p(norm_chip.loc[random_idx, 'EZH2i_1']), \n",
    "            np.log1p(norm_chip.loc[random_idx, 'DMSO_2']),\n",
    "            s=1, alpha=.5, c='k')\n",
    "\n",
    "plt.xlim(0,6)\n",
    "plt.ylim(0,6)"
   ]
  },
  {
   "cell_type": "code",
   "execution_count": 19,
   "metadata": {},
   "outputs": [
    {
     "data": {
      "text/plain": [
       "(0, 5)"
      ]
     },
     "execution_count": 19,
     "metadata": {},
     "output_type": "execute_result"
    },
    {
     "data": {
      "image/png": "[encoded data removed]",
      "text/plain": [
       "<Figure size 432x288 with 1 Axes>"
      ]
     },
     "metadata": {},
     "output_type": "display_data"
    }
   ],
   "source": [
    "plt.scatter(np.log1p(df.loc[random_idx, 'EZH2i_1']), \n",
    "            np.log1p(df.loc[random_idx, 'DMSO_2']),\n",
    "            s=1, alpha=.5, c='k')\n",
    "\n",
    "plt.xlim(0,5)\n",
    "plt.ylim(0,5)"
   ]
  },
  {
   "cell_type": "markdown",
   "metadata": {},
   "source": [
    "## Human test"
   ]
  },
  {
   "cell_type": "code",
   "execution_count": 20,
   "metadata": {},
   "outputs": [],
   "source": [
    "random_h_idx = norm_chip[~norm_chip.index.isin(fly_df_index)].sample(1000000).index"
   ]
  },
  {
   "cell_type": "code",
   "execution_count": 21,
   "metadata": {},
   "outputs": [
    {
     "data": {
      "text/plain": [
       "(0, 2.5)"
      ]
     },
     "execution_count": 21,
     "metadata": {},
     "output_type": "execute_result"
    },
    {
     "data": {
      "image/png": "[encoded data removed]",
      "text/plain": [
       "<Figure size 432x288 with 1 Axes>"
      ]
     },
     "metadata": {},
     "output_type": "display_data"
    }
   ],
   "source": [
    "plt.scatter(np.log1p(norm_chip.loc[random_h_idx, 'EZH2i_1']), \n",
    "            np.log1p(norm_chip.loc[random_h_idx, 'DMSO_1']),\n",
    "            s=1, alpha=.5, c='k')\n",
    "plt.xlim(0,2.5)\n",
    "plt.ylim(0,2.5)"
   ]
  },
  {
   "cell_type": "code",
   "execution_count": 22,
   "metadata": {},
   "outputs": [
    {
     "data": {
      "text/plain": [
       "(0, 2)"
      ]
     },
     "execution_count": 22,
     "metadata": {},
     "output_type": "execute_result"
    },
    {
     "data": {
      "image/png": "[encoded data removed]",
      "text/plain": [
       "<Figure size 432x288 with 1 Axes>"
      ]
     },
     "metadata": {},
     "output_type": "display_data"
    }
   ],
   "source": [
    "plt.scatter(np.log1p(df.loc[random_h_idx, 'EZH2i_1']), \n",
    "            np.log1p(df.loc[random_h_idx, 'DMSO_1']),\n",
    "            s=1, alpha=.5, c='k')\n",
    "\n",
    "plt.xlim(0,2)\n",
    "plt.ylim(0,2)"
   ]
  },
  {
   "cell_type": "markdown",
   "metadata": {},
   "source": [
    "## Export"
   ]
  },
  {
   "cell_type": "code",
   "execution_count": 23,
   "metadata": {},
   "outputs": [],
   "source": [
    "df['chr'] = norm_chip.chr\n",
    "df['start'] = norm_chip.start\n",
    "df['end'] = norm_chip.end"
   ]
  },
  {
   "cell_type": "code",
   "execution_count": 24,
   "metadata": {},
   "outputs": [],
   "source": [
    "human_index = df[~df.index.isin(fly_df_index)].index"
   ]
  },
  {
   "cell_type": "code",
   "execution_count": 26,
   "metadata": {},
   "outputs": [
    {
     "name": "stderr",
     "output_type": "stream",
     "text": [
      "100%|██████████| 6/6 [13:26<00:00, 135.58s/it]\n"
     ]
    }
   ],
   "source": [
    "for s in tqdm.tqdm(samples):\n",
    "    df.loc[human_index, ['chr', 'start', 'end', s]].to_csv(f'/Users/dlk41/Box/Norm_chip/updated/{s}.10it.100k.bedgraph', sep=\"\\t\", index=None, header=None)"
   ]
  },
  {
   "cell_type": "code",
   "execution_count": 27,
   "metadata": {},
   "outputs": [
    {
     "name": "stderr",
     "output_type": "stream",
     "text": [
      "100%|██████████| 6/6 [00:34<00:00,  5.69s/it]\n"
     ]
    }
   ],
   "source": [
    "fly_exp_df = df.loc[fly_df_index].copy()\n",
    "fly_exp_df['chr'] = [x.split('_')[0] for x in fly_exp_df.chr.tolist()]\n",
    "for s in tqdm.tqdm(samples):\n",
    "    fly_exp_df[['chr','start','end',s]].to_csv(f'/Users/dlk41/Box/Norm_chip/updated/{s}.10it.100k.bdgp6.bedgraph', sep=\"\\t\", index=None, header=None)"
   ]
  },
  {
   "cell_type": "markdown",
   "metadata": {},
   "source": [
    "## Make bigwig files"
   ]
  },
  {
   "cell_type": "code",
   "execution_count": 29,
   "metadata": {},
   "outputs": [],
   "source": [
    "import pyBigWig as bw"
   ]
  },
  {
   "cell_type": "code",
   "execution_count": 35,
   "metadata": {},
   "outputs": [],
   "source": [
    "with bw.open('../H3K27me3_DMSO_Rep2.cpm.100bp.bw') as file:\n",
    "    chroms = file.chroms()"
   ]
  },
  {
   "cell_type": "code",
   "execution_count": 59,
   "metadata": {},
   "outputs": [],
   "source": [
    "human_chroms = [(k,l) for k,l in chroms.items() if '_FLY' not in k]\n",
    "fly_chroms = [(f\"chr{k.split('_')[0]}\",l) for k,l in chroms.items() if '_FLY' in k]"
   ]
  },
  {
   "cell_type": "code",
   "execution_count": 60,
   "metadata": {},
   "outputs": [
    {
     "name": "stderr",
     "output_type": "stream",
     "text": [
      "100%|██████████| 6/6 [07:08<00:00, 72.12s/it]\n"
     ]
    },
    {
     "name": "stdout",
     "output_type": "stream",
     "text": [
      "CPU times: user 6min 57s, sys: 5.85 s, total: 7min 3s\n",
      "Wall time: 7min 8s\n"
     ]
    }
   ],
   "source": [
    "%%time\n",
    "\n",
    "for sample in tqdm.tqdm(samples):\n",
    "    with bw.open(f'{sample}_adjusted.bw', 'w') as file:\n",
    "        file.addHeader(human_chroms)\n",
    "        for chromosome, _ in human_chroms:\n",
    "            file.addEntries(chromosome, 0, values=df[df.chr == chromosome][sample].values, span=100, step=100)\n",
    "    with bw.open(f'{sample}_adjusted_FLY.bw', 'w') as file:\n",
    "        file.addHeader(fly_chroms)\n",
    "        for fly_chrom, _ in fly_chroms:\n",
    "            file.addEntries(fly_chrom, 0, values=df[df.chr == fly_chrom][sample].values, span=100, step=100)"
   ]
  },
  {
   "cell_type": "code",
   "execution_count": null,
   "metadata": {},
   "outputs": [],
   "source": []
  }
 ],
 "metadata": {
  "kernelspec": {
   "display_name": "Python [conda env:lab]",
   "language": "python",
   "name": "conda-env-lab-py"
  },
  "language_info": {
   "codemirror_mode": {
    "name": "ipython",
    "version": 3
   },
   "file_extension": ".py",
   "mimetype": "text/x-python",
   "name": "python",
   "nbconvert_exporter": "python",
   "pygments_lexer": "ipython3",
   "version": "3.6.6"
  }
 },
 "nbformat": 4,
 "nbformat_minor": 4
}
